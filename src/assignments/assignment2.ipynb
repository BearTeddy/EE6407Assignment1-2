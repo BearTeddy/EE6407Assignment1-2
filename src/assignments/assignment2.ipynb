{
 "cells": [
  {
   "cell_type": "code",
   "execution_count": 62,
   "metadata": {},
   "outputs": [],
   "source": [
    "import pandas as pd\n",
    "import numpy as np\n",
    "import matplotlib.pyplot as plt\n",
    "import sklearn\n",
    "import scipy.io\n"
   ]
  },
  {
   "cell_type": "code",
   "execution_count": 63,
   "metadata": {},
   "outputs": [
    {
     "name": "stdout",
     "output_type": "stream",
     "text": [
      "dict_keys(['__header__', '__version__', '__globals__', 'data_train'])\n",
      "dict_keys(['__header__', '__version__', '__globals__', 'data_test'])\n",
      "dict_keys(['__header__', '__version__', '__globals__', 'label_train'])\n"
     ]
    }
   ],
   "source": [
    "mat_test = scipy.io.loadmat('..//data//data_test.mat')\n",
    "mat_train = scipy.io.loadmat('..//data//data_train.mat')\n",
    "mat_label_train = scipy.io.loadmat('..//data//label_train.mat')\n",
    "\n",
    "print(mat_train.keys())\n",
    "print(mat_test.keys())\n",
    "print(mat_label_train.keys())"
   ]
  },
  {
   "cell_type": "code",
   "execution_count": 64,
   "metadata": {},
   "outputs": [],
   "source": [
    "data_test = mat_test['data_test']\n",
    "data_train = mat_train['data_train']\n",
    "label_train = mat_label_train['label_train']"
   ]
  },
  {
   "cell_type": "code",
   "execution_count": 65,
   "metadata": {},
   "outputs": [
    {
     "name": "stdout",
     "output_type": "stream",
     "text": [
      "<class 'numpy.ndarray'>\n",
      "(577, 5)\n",
      "<class 'numpy.ndarray'>\n",
      "(577, 1)\n",
      "<class 'numpy.ndarray'>\n",
      "(23, 5)\n"
     ]
    }
   ],
   "source": [
    "print(type(data_train))  # Should print <class 'numpy.ndarray'>\n",
    "print(data_train.shape)  # Prints the shape of the dataset\n",
    "print(type(label_train))  # Should print <class 'numpy.ndarray'>\n",
    "print(label_train.shape)  # Prints the shape of the labels\n",
    "print(type(data_test))  # Should print <class 'numpy.ndarray'>\n",
    "print(data_test.shape)  # Prints the shape of the dataset"
   ]
  },
  {
   "cell_type": "code",
   "execution_count": 66,
   "metadata": {},
   "outputs": [],
   "source": [
    "# Convert the variables to Pandas DataFrames\n",
    "df_data_train = pd.DataFrame(data_train)\n",
    "df_data_test = pd.DataFrame(data_test)\n",
    "df_label_train = pd.DataFrame(label_train)"
   ]
  },
  {
   "cell_type": "code",
   "execution_count": 67,
   "metadata": {},
   "outputs": [],
   "source": [
    "df_label_train.to_csv('..//data//label_train.csv', index=False)"
   ]
  },
  {
   "cell_type": "code",
   "execution_count": 68,
   "metadata": {},
   "outputs": [
    {
     "name": "stdout",
     "output_type": "stream",
     "text": [
      "   0\n",
      "0  1\n",
      "1  1\n",
      "2  1\n",
      "3  1\n",
      "4  1\n",
      "                0\n",
      "count  577.000000\n",
      "mean     0.043328\n",
      "std      0.999928\n",
      "min     -1.000000\n",
      "25%     -1.000000\n",
      "50%      1.000000\n",
      "75%      1.000000\n",
      "max      1.000000\n",
      "[ 1 -1]\n"
     ]
    }
   ],
   "source": [
    "print(df_label_train.head())\n",
    "print(df_label_train.describe())\n",
    "print(df_label_train[0].unique())"
   ]
  },
  {
   "cell_type": "code",
   "execution_count": 69,
   "metadata": {},
   "outputs": [],
   "source": [
    "df_data_train.to_csv('..//data//data_train.csv', index=False)"
   ]
  },
  {
   "cell_type": "code",
   "execution_count": 70,
   "metadata": {},
   "outputs": [],
   "source": [
    "df_train = df_data_train.copy()\n",
    "df_train['label'] = df_label_train"
   ]
  },
  {
   "cell_type": "code",
   "execution_count": 72,
   "metadata": {},
   "outputs": [
    {
     "name": "stdout",
     "output_type": "stream",
     "text": [
      "[ 1 -1]\n"
     ]
    }
   ],
   "source": [
    "classes = df_train['label'].unique()\n",
    "print(classes)"
   ]
  },
  {
   "cell_type": "code",
   "execution_count": 73,
   "metadata": {},
   "outputs": [],
   "source": [
    "#Separate the classes\n",
    "X1 = df_train[df_train['label'] == classes[0]].drop(columns='label').values\n",
    "X2 = df_train[df_train['label'] == classes[1]].drop(columns='label').values"
   ]
  },
  {
   "cell_type": "code",
   "execution_count": 74,
   "metadata": {},
   "outputs": [
    {
     "name": "stdout",
     "output_type": "stream",
     "text": [
      "(301, 5)\n",
      "(276, 5)\n",
      "[[ 0.37924377  0.98937812 -2.10994043 -0.22980496 -0.92707999]\n",
      " [-2.25289823 -0.68884118 -0.79939513 -0.57921684 -0.16987767]\n",
      " [-1.1683507  -0.85683761  0.56697509  0.48048118 -0.47167249]\n",
      " ...\n",
      " [ 0.50132753 -0.56032849  0.54934915  0.01788818  0.05493268]\n",
      " [ 0.54031375 -1.22646737  0.46763432  0.65453522  1.39855244]\n",
      " [ 0.99075099  0.79295036  0.191457    1.25769877 -1.77564838]]\n",
      "[[ 1.09055692  1.04846924  0.28444994  2.22921146  1.97506608]\n",
      " [ 0.77668448  3.46785973  1.52931945 -0.24349783  0.77325587]\n",
      " [-0.26892863  2.91898541  1.03554031  1.87105592  0.97823819]\n",
      " ...\n",
      " [-0.0724326   2.00792589  1.67974785  1.25719446  3.13608303]\n",
      " [ 2.87489219  2.06900942  2.72637984  3.25644852  0.16496699]\n",
      " [ 0.87026556 -0.07002803  1.50605951  0.02779781  3.45284453]]\n"
     ]
    }
   ],
   "source": [
    "print(X1.shape)\n",
    "print(X2.shape)\n",
    "print(X1)\n",
    "print(X2)"
   ]
  },
  {
   "cell_type": "code",
   "execution_count": 75,
   "metadata": {},
   "outputs": [
    {
     "name": "stdout",
     "output_type": "stream",
     "text": [
      "[-0.04179197  0.06709806 -0.05396359  0.09123305 -0.01469081]\n",
      "[1.04278079 2.06229576 0.94075223 1.25511355 1.60467669]\n"
     ]
    }
   ],
   "source": [
    "#Calculate the mean vector for each class\n",
    "mean1 = np.mean(X1, axis=0)\n",
    "mean2 = np.mean(X2, axis=0)\n",
    "print(mean1)\n",
    "print(mean2)"
   ]
  },
  {
   "cell_type": "code",
   "execution_count": 76,
   "metadata": {},
   "outputs": [
    {
     "name": "stdout",
     "output_type": "stream",
     "text": [
      "[[ 5.68106935e+02  1.69888788e+01 -1.25504726e-01  2.11181122e+01\n",
      "  -9.16624869e+00]\n",
      " [ 1.69888788e+01  5.67736243e+02 -1.74383674e+01  2.87697449e+01\n",
      "  -8.01098501e+00]\n",
      " [-1.25504726e-01 -1.74383674e+01  5.40029844e+02  1.58065228e+01\n",
      "  -8.42147620e+00]\n",
      " [ 2.11181122e+01  2.87697449e+01  1.58065228e+01  6.04840878e+02\n",
      "  -8.35601990e+00]\n",
      " [-9.16624869e+00 -8.01098501e+00 -8.42147620e+00 -8.35601990e+00\n",
      "   6.37307785e+02]]\n"
     ]
    }
   ],
   "source": [
    "X1_centered = X1 - mean1\n",
    "X2_centered = X2 - mean2\n",
    "\n",
    "#Compute the Scatter Martix\n",
    "S1 = X1_centered.T @ X1_centered\n",
    "S2 = X2_centered.T @ X2_centered\n",
    "\n",
    "#Compute the within-class scatter matrix\n",
    "Sw = S1 + S2\n",
    "print(Sw)"
   ]
  },
  {
   "cell_type": "code",
   "execution_count": 77,
   "metadata": {},
   "outputs": [
    {
     "name": "stdout",
     "output_type": "stream",
     "text": [
      "[-0.00178602 -0.0034729  -0.00194673 -0.00168257 -0.00265808]\n",
      "0.008700458474367304\n"
     ]
    }
   ],
   "source": [
    "#compute weight vector\n",
    "w = np.linalg.inv(Sw) @ (mean1 - mean2)\n",
    "print(w)\n",
    "\n",
    "#compute bias term \n",
    "w0 = -0.5 * (mean1 + mean2) @ w\n",
    "print(w0)"
   ]
  },
  {
   "cell_type": "code",
   "execution_count": 78,
   "metadata": {},
   "outputs": [],
   "source": [
    "#create the predict function \n",
    "def predict(x):\n",
    "    val = np.dot(x, w) + w0\n",
    "    return classes[0] if val > 0 else classes[1]"
   ]
  },
  {
   "cell_type": "code",
   "execution_count": 79,
   "metadata": {},
   "outputs": [],
   "source": [
    "data_test = df_data_test.copy()\n",
    "data_test['prediction'] = data_test.apply(lambda row: predict(row.values), axis=1)\n",
    "data_test.to_csv('..//data//data_test.csv', index=False)"
   ]
  },
  {
   "cell_type": "code",
   "execution_count": null,
   "metadata": {},
   "outputs": [
    {
     "name": "stdout",
     "output_type": "stream",
     "text": [
      "           0         1         2         3         4  prediction\n",
      "0   0.005780  1.562600  0.447382  2.090916  0.897334          -1\n",
      "1   1.229060  1.439845  0.877565 -0.119081  1.468714          -1\n",
      "2   2.339889  0.968273 -0.342265  2.123420  0.848204          -1\n",
      "3   0.232466  1.968615  0.359025  1.583467  0.803537          -1\n",
      "4   0.458142  2.232859 -0.622579  1.563475  0.724611          -1\n",
      "5   0.696818  2.393233 -1.181912  0.832575  1.532150          -1\n",
      "6  -0.173921  1.709731  0.616747  1.233261  1.334690          -1\n",
      "7   1.171005  1.299816  0.184931  1.827980  0.785178          -1\n",
      "8   2.064855  0.830328  0.279357  1.601429  1.032416          -1\n",
      "9   0.835157  0.929826 -0.577110  0.649153  0.182625           1\n",
      "10  0.494841  1.605039  0.415776  0.846501 -1.551331           1\n",
      "11  1.533796  1.066631 -1.991196  1.037367  0.334273           1\n",
      "12 -0.478865  0.371465  0.941137  0.397740  0.892793           1\n",
      "13 -0.632688 -0.622585 -0.491818  1.441855  2.314403           1\n",
      "14 -1.045710  1.920303 -0.969302  0.235527  0.588013           1\n",
      "15  1.619877  1.127442  1.491482 -1.297372 -0.860655           1\n",
      "16  1.295951  1.226209 -0.414907 -0.446608  0.163245           1\n",
      "17 -0.107192  0.992332 -0.597859  0.023824  1.206420           1\n",
      "18 -1.001592  1.383214  0.836830 -0.486150  0.621050           1\n",
      "19  0.959474  1.631242  0.884584 -0.671549 -1.017434           1\n",
      "20  0.782393  0.794246 -0.044035 -0.033128  0.338579           1\n",
      "21  0.578938  0.685252 -0.457365  0.023634  0.910749           1\n",
      "22 -0.561367  1.617302 -0.006292 -0.988280  0.785969           1\n"
     ]
    }
   ],
   "source": [
    "#print the 23 predictions\n",
    "print(data_test.head(23))"
   ]
  }
 ],
 "metadata": {
  "kernelspec": {
   "display_name": "EE6407-GeneticAlgorithm",
   "language": "python",
   "name": "python3"
  },
  "language_info": {
   "codemirror_mode": {
    "name": "ipython",
    "version": 3
   },
   "file_extension": ".py",
   "mimetype": "text/x-python",
   "name": "python",
   "nbconvert_exporter": "python",
   "pygments_lexer": "ipython3",
   "version": "3.12.7"
  }
 },
 "nbformat": 4,
 "nbformat_minor": 2
}
